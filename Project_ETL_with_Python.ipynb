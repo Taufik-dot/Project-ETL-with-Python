{
  "nbformat": 4,
  "nbformat_minor": 0,
  "metadata": {
    "colab": {
      "name": "Project ETL with Python",
      "provenance": [],
      "authorship_tag": "ABX9TyOFqugUz6prgA8uCWi8/7JR"
    },
    "kernelspec": {
      "name": "python3",
      "display_name": "Python 3"
    },
    "language_info": {
      "name": "python"
    }
  },
  "cells": [
    {
      "cell_type": "markdown",
      "source": [
        "# **Project ETL with Python**"
      ],
      "metadata": {
        "id": "6BDXjk7mpn_-"
      }
    },
    {
      "cell_type": "markdown",
      "source": [
        "Extract, Transform and Load (ETL) is a collection of processes to \"move\" data from one place to another.\n",
        "The place in question is from data sources (can be application databases, files, logs, databases from 3rd party, and others) to the data warehouse.\n",
        "\n",
        "What is a data warehouse?\n",
        "\n",
        "In short, a data warehouse is a database that contains data (tables) that are ready for analysis by Data Engineer and Data Scientists.\n",
        "\n",
        "More details can be seen at:\n",
        "https://en.wikipedia.org/wiki/Data_warehouse.\n",
        "\n",
        "In this Project I will Practice each of these processes."
      ],
      "metadata": {
        "id": "AiusFZ-ApY40"
      }
    },
    {
      "cell_type": "markdown",
      "source": [
        "# Projects to be Done\n",
        "In this project, I will process the registrant data for a hackathon organized by DQThon.\n",
        "\n",
        "This dataset consists of 5000 rows of data (5000 registrants) in CSV (Comma-separated values) format and has several columns including:\n",
        "\n",
        "- participant_id: ID of the participant/participant of the hackathon. This column is unique so each participant must have a different ID\n",
        "- first_name: participant's first name\n",
        "- last_name: participant's last name\n",
        "- birth_date: participant's date of birth\n",
        "- address: participant's residence address\n",
        "- phone_number: participant's cellphone/phone number\n",
        "- country: participant's country of origin\n",
        "- institute: the current participating institution, can be the name of the company or the name of the university\n",
        "- occupation: participant's current job\n",
        "- register_time: the time participants register for the hackathon in seconds\n",
        "\n",
        "However, in this project I will be asked to generate several columns by utilizing the existing columns, so that the end of this project is the result of data transformation with several new columns apart from the 10 columns above.\n",
        "\n",
        "As a warm-up to this project, I will open the contents of the dataset and see the values."
      ],
      "metadata": {
        "id": "7Ck3MS1zqJeE"
      }
    },
    {
      "cell_type": "code",
      "execution_count": null,
      "metadata": {
        "id": "pUUsjMcSpUw9"
      },
      "outputs": [],
      "source": [
        ""
      ]
    }
  ]
}