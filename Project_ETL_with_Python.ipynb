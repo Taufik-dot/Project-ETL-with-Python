{
  "nbformat": 4,
  "nbformat_minor": 0,
  "metadata": {
    "colab": {
      "name": "Project ETL with Python",
      "provenance": [],
      "collapsed_sections": [],
      "authorship_tag": "ABX9TyP4MLYOWdLekzuoiTBP4vF8"
    },
    "kernelspec": {
      "name": "python3",
      "display_name": "Python 3"
    },
    "language_info": {
      "name": "python"
    }
  },
  "cells": [
    {
      "cell_type": "markdown",
      "source": [
        "# **Introduction of Project ETL with Python**"
      ],
      "metadata": {
        "id": "6BDXjk7mpn_-"
      }
    },
    {
      "cell_type": "markdown",
      "source": [
        "Extract, Transform and Load (ETL) is a collection of processes to \"move\" data from one place to another.\n",
        "The place in question is from data sources (can be application databases, files, logs, databases from 3rd party, and others) to the data warehouse.\n",
        "\n",
        "What is a data warehouse?\n",
        "\n",
        "In short, a data warehouse is a database that contains data (tables) that are ready for analysis by Data Engineer and Data Scientists.\n",
        "\n",
        "More details can be seen at:\n",
        "https://en.wikipedia.org/wiki/Data_warehouse.\n",
        "\n",
        "In this Project I will Practice each of these processes."
      ],
      "metadata": {
        "id": "AiusFZ-ApY40"
      }
    },
    {
      "cell_type": "markdown",
      "source": [
        "# Projects to be Done\n",
        "In this project, I will process the registrant data for a hackathon organized by DQThon.\n",
        "\n",
        "This dataset consists of 5000 rows of data (5000 registrants) in CSV (Comma-separated values) format and has several columns including:\n",
        "\n",
        "- participant_id: ID of the participant/participant of the hackathon. This column is unique so each participant must have a different ID\n",
        "- first_name: participant's first name\n",
        "- last_name: participant's last name\n",
        "- birth_date: participant's date of birth\n",
        "- address: participant's residence address\n",
        "- phone_number: participant's cellphone/phone number\n",
        "- country: participant's country of origin\n",
        "- institute: the current participating institution, can be the name of the company or the name of the university\n",
        "- occupation: participant's current job\n",
        "- register_time: the time participants register for the hackathon in seconds\n",
        "\n",
        "However, in this project I will be asked to generate several columns by utilizing the existing columns, so that the end of this project is the result of data transformation with several new columns apart from the 10 columns above.\n",
        "\n",
        "As a warm-up to this project, I will open the contents of the dataset and see the values."
      ],
      "metadata": {
        "id": "7Ck3MS1zqJeE"
      }
    },
    {
      "cell_type": "markdown",
      "source": [
        "\n",
        "\n",
        "---\n",
        "\n",
        "\n",
        "\n",
        "---\n",
        "\n"
      ],
      "metadata": {
        "id": "SpARq9ayvA1R"
      }
    },
    {
      "cell_type": "markdown",
      "source": [
        "# **Extract**\n",
        "Extract is the process of extracting data from sources, this data source can be relational data (SQL) or tables, non-relational (NoSQL) or others.\n",
        "\n",
        "My task is to first read this dataset as a CSV so that it can be processed later. \n",
        "\n",
        "The file can be accessed via the URL: https://storage.googleapis.com/dqlab-dataset/dqthon-participants.csv."
      ],
      "metadata": {
        "id": "7HIQgM-tvF5q"
      }
    },
    {
      "cell_type": "code",
      "source": [
        "import pandas as pd\n",
        "df_participant = pd.read_csv('https://storage.googleapis.com/dqlab-dataset/dqthon-participants.csv')"
      ],
      "metadata": {
        "id": "JshyznMAvESF"
      },
      "execution_count": 1,
      "outputs": []
    },
    {
      "cell_type": "markdown",
      "source": [
        "\n",
        "\n",
        "---\n",
        "\n",
        "\n",
        "\n",
        "---\n",
        "\n",
        "\n",
        "\n"
      ],
      "metadata": {
        "id": "K_pZ6nsbv1Aa"
      }
    },
    {
      "cell_type": "markdown",
      "source": [
        "# **Transform**\n",
        "Transform is the process of transforming data, or changes to data. Generally like:\n",
        "\n",
        "- Change the value of a column to a new value,\n",
        "- Creates a new column by making use of another column,\n",
        "- Transpose rows to columns (or vice versa),\n",
        "- Change the data format to a more standard form (for example, date and datetime columns which usually have non-standard values or HP numbers which usually have values that do not match the standard format), and others."
      ],
      "metadata": {
        "id": "Nqke5EGwv5M1"
      }
    },
    {
      "cell_type": "markdown",
      "source": [
        "## Transform Part I - Postal Code\n",
        "\n",
        "There was a request from the logistics team that they needed a postal code from the participant so that the delivery of the trophy was easier and faster. Therefore, create a new column called postal_code which contains information about the postal code taken from the participant's address (address column).\n",
        "\n",
        "Note that the postal code is at the very end of the address."
      ],
      "metadata": {
        "id": "rLA3F-qJv5Ex"
      }
    },
    {
      "cell_type": "code",
      "source": [
        "df_participant['postal_code'] = df_participant['address'].str.extract(r'(\\d+)$')"
      ],
      "metadata": {
        "id": "1GPVxpISv2Ap"
      },
      "execution_count": 2,
      "outputs": []
    },
    {
      "cell_type": "markdown",
      "source": [
        "## Transform Part II - City\n",
        "In addition to the postal code, they also need the city of the participant.\n",
        "\n",
        "To provide this information, create a new column named city which is obtained from the address column. It is assumed that the city is a set of characters after the street number followed by \\n (newline character) or in other languages, namely enter."
      ],
      "metadata": {
        "id": "77sYvLJWw6PD"
      }
    },
    {
      "cell_type": "code",
      "source": [
        "df_participant['city'] = df_participant['address'].str.extract(r'(?<=\\n)(\\w.+)(?=,)') "
      ],
      "metadata": {
        "id": "NJGk5DVmwd0D"
      },
      "execution_count": 3,
      "outputs": []
    },
    {
      "cell_type": "markdown",
      "source": [
        "## Transform Part III - Github\n",
        "One of the parameters to find out what projects the participants have worked on is from their git repository.\n",
        "\n",
        "In this case we use the github profile as the parameter. Your task is to create a new column named github_profile which is the github profile link of the participant.\n",
        "\n",
        "Note that their github profile is a concatenation of lowercase first_name and last_name."
      ],
      "metadata": {
        "id": "c_4DMJtRxOFJ"
      }
    },
    {
      "cell_type": "code",
      "source": [
        "df_participant['github_profile'] = 'https://github.com/' + df_participant['first_name'].str.lower() + df_participant['last_name'].str.lower()"
      ],
      "metadata": {
        "id": "M96zto8bxCTw"
      },
      "execution_count": 4,
      "outputs": []
    },
    {
      "cell_type": "markdown",
      "source": [
        "# Transform Part IV - Mobile Number\n",
        "If we look back, it turns out that the cellphone numbers in our csv data have different formats. Therefore, we need to clean the mobile number data so that it has the same format. You as a Data Engineer are given the privilege to determine the correct mobile number format. In this case let's equate the format with the rule:\n",
        "\n",
        "- If the prefix of the mobile number is the number 62 or +62 which is the Indonesian telephone code, it will be translated to 0.\n",
        "- No punctuation such as opening parenthesis, closing parenthesis, strip⟶ ()-\n",
        "- There is no space in the column name cell phone number to store the cleaning results on the cellphone number, namely cleaned_phone_number"
      ],
      "metadata": {
        "id": "8a909aPyxexr"
      }
    },
    {
      "cell_type": "code",
      "source": [
        "df_participant['cleaned_phone_number'] = df_participant['phone_number'].str.replace(r'^(\\+62|62)', '0')\n",
        "df_participant['cleaned_phone_number'] = df_participant['cleaned_phone_number'].str.replace(r'[()-]', '')\n",
        "df_participant['cleaned_phone_number'] = df_participant['cleaned_phone_number'].str.replace(r'\\s+', '')"
      ],
      "metadata": {
        "colab": {
          "base_uri": "https://localhost:8080/"
        },
        "id": "f95iM0_txQOb",
        "outputId": "db5cd4f0-8f08-491a-fbc8-cc52103c7b8c"
      },
      "execution_count": 6,
      "outputs": [
        {
          "output_type": "stream",
          "name": "stderr",
          "text": [
            "/usr/local/lib/python3.7/dist-packages/ipykernel_launcher.py:1: FutureWarning: The default value of regex will change from True to False in a future version.\n",
            "  \"\"\"Entry point for launching an IPython kernel.\n",
            "/usr/local/lib/python3.7/dist-packages/ipykernel_launcher.py:2: FutureWarning: The default value of regex will change from True to False in a future version.\n",
            "  \n",
            "/usr/local/lib/python3.7/dist-packages/ipykernel_launcher.py:3: FutureWarning: The default value of regex will change from True to False in a future version.\n",
            "  This is separate from the ipykernel package so we can avoid doing imports until\n"
          ]
        }
      ]
    },
    {
      "cell_type": "markdown",
      "source": [
        "# Transform Part V - Team Name\n",
        "The dataset does not currently contain team names, and apparently the Data Analyst team requires information regarding the team names of each participant.\n",
        "\n",
        "Note that the team name is a combination of values from the first_name, last_name, country and institute columns.\n",
        "\n",
        "My task is to create a new column with the name team_name which contains the team name information from the participants."
      ],
      "metadata": {
        "id": "XUk11wT7yGjB"
      }
    },
    {
      "cell_type": "code",
      "source": [
        "def func(col):\n",
        "    abbrev_name = \"%s%s\"%(col['first_name'][0],col['last_name'][0]) #Abbreviation of First Name and Last Name by taking the first letter\n",
        "    country = col['country']\n",
        "    abbrev_institute = '%s'%(''.join(list(map(lambda word: word[0], col['institute'].split())))) #Abbreviation of value in the institute column\n",
        "    return \"%s-%s-%s\"%(abbrev_name,country,abbrev_institute)\n",
        "\n",
        "df_participant['team_name'] = df_participant.apply(func, axis=1)"
      ],
      "metadata": {
        "id": "Tlt6zeTNxph3"
      },
      "execution_count": 7,
      "outputs": []
    },
    {
      "cell_type": "markdown",
      "source": [
        "# Transform Part VI - Email\n",
        "After reviewing the participant data, it turns out that there is one important information that is not yet available, namely email.\n",
        "\n",
        "I am asked to provide email information from participants with the rules that the email format is as follows:\n",
        "\n",
        "---\n",
        "\n",
        "Email Formats:\n",
        "\n",
        "xxyy@aa.bb.[ac/com].[cc]\n",
        "\n",
        "Information:\n",
        "- xx -> first name (first_name) in lowercase\n",
        "- yy -> last name (last_name) in lowercase\n",
        "- aa -> institution name\n",
        "\n",
        "For the value of bb, and cc follow the value of aa. The rules:\n",
        "- If the institution is a university, then\n",
        "  bb -> a combination of the first letters of each word of the University name in lowercase\n",
        "  Then, followed by .ac which indicates the academy/institution of learning and followed by pattern cc\n",
        "- If the institution is not a University, then\n",
        "  bb -> a combination of the first letters of each word of the University name in lowercase\n",
        "  Then, followed by .com. Please note that the cc pattern does not apply in this condition\n",
        "\n",
        "cc -> is the participant's country of origin, as for the rules:\n",
        "- If the number of words in the country is more than 1 then take the abbreviation of that country in lowercase\n",
        "- However, if the number of words is only 1 then take the first 3 letters of the country in lowercase\n",
        "\n",
        "Example:\n",
        "  First name: Citra;\n",
        "  Last name: Nurdiyanti;\n",
        "  Institution: UD Prakasa Mandasari;\n",
        "  Country: Georgia.\n",
        "  So, his email: citranurdiyanti@upm.geo\n",
        "  --------------------------------------------------\n",
        "  First name: Aris;\n",
        "  Last name: Setiawan;\n",
        "  Institution: Diponegoro University;\n",
        "  Country: North Korea.\n",
        "  \n",
        "  So, Email: arissetiawan@ud.ac.ku"
      ],
      "metadata": {
        "id": "05Hlwf3uywPE"
      }
    },
    {
      "cell_type": "code",
      "source": [
        "def func(col):\n",
        "    first_name_lower = col['first_name'].lower()\n",
        "    last_name_lower = col['last_name'].lower()\n",
        "    institute = ''.join(list(map(lambda word: word[0], col['institute'].lower().split()))) #Abbreviation of company name in lowercase\n",
        "\n",
        "    if 'Universitas' in col['institute']:\n",
        "        if len(col['country'].split()) > 1: #Condition to check if the word count of country is more than 1\n",
        "            country = ''.join(list(map(lambda word: word[0], col['country'].lower().split())))\n",
        "        else:\n",
        "            country = col['country'][:3].lower()\n",
        "        return \"%s%s@%s.ac.%s\"%(first_name_lower,last_name_lower,institute,country)\n",
        "\n",
        "    return \"%s%s@%s.com\"%(first_name_lower,last_name_lower,institute)\n",
        "\n",
        "df_participant['email'] = df_participant.apply(func, axis=1)"
      ],
      "metadata": {
        "id": "429pBxqEygyy"
      },
      "execution_count": 8,
      "outputs": []
    },
    {
      "cell_type": "markdown",
      "source": [
        "# Transform Part VII - Date of Birth\n",
        "MySQL is a database that is very popular and is used to store data in the form of tables, including the data from the processing that we have done, which can later be entered into MySQL.\n",
        "\n",
        "Even so, there is a rule from MySQL regarding the date format they can accept, namely YYYY-MM-DD with the caption:\n",
        "\n",
        "- YYYY: 4 digits indicating year\n",
        "- MM: 2 digits indicating month\n",
        "- DD: 2 digits indicating the date\n",
        "\n",
        "Examples are: 2021-04-07\n",
        "\n",
        "If we look again at the date of birth column, we can see that the value does not match the DATE format from MySQL.\n",
        "\n",
        "Therefore, format the birth_date column to YYYY-MM-DD and save it in the same column."
      ],
      "metadata": {
        "id": "pH2A5WxL075H"
      }
    },
    {
      "cell_type": "code",
      "source": [
        "df_participant['birth_date'] = pd.to_datetime(df_participant['birth_date'], format='%d %b %Y')"
      ],
      "metadata": {
        "id": "PYBPeiC20ySI"
      },
      "execution_count": 9,
      "outputs": []
    },
    {
      "cell_type": "markdown",
      "source": [
        "# Transform Part VII - Competition Registration Date\n",
        "In addition to having rules regarding the DATE format, MySQL also provides rules for data of type DATETIME, namely YYYY-MM-DD HH:mm:ss with the description:\n",
        "\n",
        "- YYYY: 4 digits indicating year\n",
        "- MM: 2 digits indicating month\n",
        "- DD: 2 digits indicating the date\n",
        "- HH: 2 digits indicating the hour\n",
        "- mm: 2 digits indicating the minute\n",
        "- ss: 2 digits indicating seconds\n",
        "\n",
        "Examples are: 2021-04-07 15:10:55\n",
        "\n",
        "Because our data regarding participant registration time (register_time) is not in the proper format.\n",
        "\n",
        "Therefore, My task is to change register_time to DATETIME format according to MySQL's rules.\n",
        "\n",
        "Save the results to the register_at column."
      ],
      "metadata": {
        "id": "akgyke2q1cwO"
      }
    },
    {
      "cell_type": "code",
      "source": [
        "df_participant['register_at'] = pd.to_datetime(df_participant['register_time'], unit='s')"
      ],
      "metadata": {
        "id": "E8lmOFzl1T0X"
      },
      "execution_count": 10,
      "outputs": []
    },
    {
      "cell_type": "markdown",
      "source": [
        "\n",
        "\n",
        "---\n",
        "\n",
        "\n",
        "\n",
        "---\n",
        "\n",
        "\n"
      ],
      "metadata": {
        "id": "1zBwWjqi2AsM"
      }
    },
    {
      "cell_type": "markdown",
      "source": [
        "# **Conclusion**\n",
        "With that, I come to the end of the Transform section.\n",
        "\n",
        "If we look back, my current dataset is different from the previous extract process. There are some additional columns that take advantage of other column values.\n",
        "\n",
        "My dataset currently contains the following columns:\n",
        "\n",
        "1. participant_id: ID of the participant/participant of the hackathon. This column is unique so each participant must have a different ID\n",
        "2. first_name: participant's first name\n",
        "3. last_name: participant's last name\n",
        "4. birth_date: participant's date of birth (already formatted to YYYY-MM-DD)\n",
        "5. address: participant's residence address\n",
        "6. phone_number: participant's cellphone/phone number\n",
        "7. country: participant's country of origin\n",
        "8. institute: the current participating institution, can be the name of the company or the name of the university\n",
        "9. occupation: participant's current job\n",
        "10. register_time: the time participants register for the hackathon in seconds\n",
        "11. team_name: name of the participating team (combination of first name, last name, country and institution)\n",
        "12. postal_code: participant's address postal code (taken from the address field)\n",
        "13. city: participant city (taken from the address column)\n",
        "14. github_profile: link of participant's github profile (combination of first name and last name)\n",
        "15. email: participant's email address (combination of first name, last name, institution and country)\n",
        "16. cleaned_phone_number: participant's cellphone/telephone number (already more in line with the phone number format)\n",
        "17. register_at: date and time participants registered (already in DATETIME format)"
      ],
      "metadata": {
        "id": "vtHdBgdw2E9W"
      }
    },
    {
      "cell_type": "markdown",
      "source": [
        "\n",
        "\n",
        "---\n",
        "\n",
        "\n",
        "\n",
        "---\n",
        "\n"
      ],
      "metadata": {
        "id": "cT85P4F83szv"
      }
    },
    {
      "cell_type": "markdown",
      "source": [
        "# Load\n",
        "In this load section, the data that has been transformed in such a way that it fits the needs of the analyst team is entered back into the database, namely the Data Warehouse (DWH). Usually, the database schema is defined first, such as:\n",
        "\n",
        "Column name\n",
        "Column type\n",
        "Is it primary key, unique key, index or not\n",
        "Column length\n",
        "Because generally Data Warehouses are structured databases so they need a schema before the data is entered.\n",
        "\n",
        "Pandas already provides a function to enter data into the database, namely to_sql().\n",
        "\n",
        "Details of the function can be found in the Pandas documentation: https://pandas.pydata.org/docs/reference/api/pandas.DataFrame.to_sql.html"
      ],
      "metadata": {
        "id": "SpkFlHlL3ycx"
      }
    },
    {
      "cell_type": "code",
      "source": [
        ""
      ],
      "metadata": {
        "id": "LB4kN0Mf5R7k"
      },
      "execution_count": null,
      "outputs": []
    },
    {
      "cell_type": "code",
      "source": [
        ""
      ],
      "metadata": {
        "id": "fwSix_Fi32ju"
      },
      "execution_count": null,
      "outputs": []
    }
  ]
}